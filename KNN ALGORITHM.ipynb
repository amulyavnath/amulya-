{
 "cells": [
  {
   "cell_type": "markdown",
   "id": "403d41cd",
   "metadata": {},
   "source": [
    "#KNN Algorithm\n"
   ]
  },
  {
   "cell_type": "code",
   "execution_count": 149,
   "id": "369c7042",
   "metadata": {},
   "outputs": [],
   "source": [
    "import numpy as nm\n",
    "import matplotlib.pyplot as mtp\n",
    "import pandas as pd"
   ]
  },
  {
   "cell_type": "code",
   "execution_count": 3,
   "id": "49e3caec",
   "metadata": {},
   "outputs": [],
   "source": [
    "data_set=pd.read_csv('kyphosis.csv')"
   ]
  },
  {
   "cell_type": "code",
   "execution_count": 4,
   "id": "91032506",
   "metadata": {},
   "outputs": [
    {
     "name": "stdout",
     "output_type": "stream",
     "text": [
      "    Unnamed: 0 Kyphosis  Age  Number  Start\n",
      "0            1   absent   71       3      5\n",
      "1            2   absent  158       3     14\n",
      "2            3  present  128       4      5\n",
      "3            4   absent    2       5      1\n",
      "4            5   absent    1       4     15\n",
      "..         ...      ...  ...     ...    ...\n",
      "76          77  present  157       3     13\n",
      "77          78   absent   26       7     13\n",
      "78          79   absent  120       2     13\n",
      "79          80  present   42       7      6\n",
      "80          81   absent   36       4     13\n",
      "\n",
      "[81 rows x 5 columns]\n"
     ]
    }
   ],
   "source": [
    "print(data_set)"
   ]
  },
  {
   "cell_type": "code",
   "execution_count": 57,
   "id": "de5f64cc",
   "metadata": {},
   "outputs": [
    {
     "data": {
      "text/html": [
       "<div>\n",
       "<style scoped>\n",
       "    .dataframe tbody tr th:only-of-type {\n",
       "        vertical-align: middle;\n",
       "    }\n",
       "\n",
       "    .dataframe tbody tr th {\n",
       "        vertical-align: top;\n",
       "    }\n",
       "\n",
       "    .dataframe thead th {\n",
       "        text-align: right;\n",
       "    }\n",
       "</style>\n",
       "<table border=\"1\" class=\"dataframe\">\n",
       "  <thead>\n",
       "    <tr style=\"text-align: right;\">\n",
       "      <th></th>\n",
       "      <th>Unnamed: 0</th>\n",
       "      <th>Kyphosis</th>\n",
       "      <th>Age</th>\n",
       "      <th>Number</th>\n",
       "      <th>Start</th>\n",
       "    </tr>\n",
       "  </thead>\n",
       "  <tbody>\n",
       "    <tr>\n",
       "      <th>0</th>\n",
       "      <td>1</td>\n",
       "      <td>absent</td>\n",
       "      <td>71</td>\n",
       "      <td>3</td>\n",
       "      <td>5</td>\n",
       "    </tr>\n",
       "    <tr>\n",
       "      <th>1</th>\n",
       "      <td>2</td>\n",
       "      <td>absent</td>\n",
       "      <td>158</td>\n",
       "      <td>3</td>\n",
       "      <td>14</td>\n",
       "    </tr>\n",
       "    <tr>\n",
       "      <th>2</th>\n",
       "      <td>3</td>\n",
       "      <td>present</td>\n",
       "      <td>128</td>\n",
       "      <td>4</td>\n",
       "      <td>5</td>\n",
       "    </tr>\n",
       "    <tr>\n",
       "      <th>3</th>\n",
       "      <td>4</td>\n",
       "      <td>absent</td>\n",
       "      <td>2</td>\n",
       "      <td>5</td>\n",
       "      <td>1</td>\n",
       "    </tr>\n",
       "    <tr>\n",
       "      <th>4</th>\n",
       "      <td>5</td>\n",
       "      <td>absent</td>\n",
       "      <td>1</td>\n",
       "      <td>4</td>\n",
       "      <td>15</td>\n",
       "    </tr>\n",
       "  </tbody>\n",
       "</table>\n",
       "</div>"
      ],
      "text/plain": [
       "   Unnamed: 0 Kyphosis  Age  Number  Start\n",
       "0           1   absent   71       3      5\n",
       "1           2   absent  158       3     14\n",
       "2           3  present  128       4      5\n",
       "3           4   absent    2       5      1\n",
       "4           5   absent    1       4     15"
      ]
     },
     "execution_count": 57,
     "metadata": {},
     "output_type": "execute_result"
    }
   ],
   "source": [
    "data_set.head()"
   ]
  },
  {
   "cell_type": "code",
   "execution_count": null,
   "id": "884a7904",
   "metadata": {},
   "outputs": [],
   "source": []
  },
  {
   "cell_type": "code",
   "execution_count": 5,
   "id": "ae3c4ba9",
   "metadata": {},
   "outputs": [],
   "source": [
    "x=data_set.iloc[:,[2,3]].values"
   ]
  },
  {
   "cell_type": "code",
   "execution_count": 6,
   "id": "def6ce3d",
   "metadata": {},
   "outputs": [
    {
     "name": "stdout",
     "output_type": "stream",
     "text": [
      "[[ 71   3]\n",
      " [158   3]\n",
      " [128   4]\n",
      " [  2   5]\n",
      " [  1   4]\n",
      " [  1   2]\n",
      " [ 61   2]\n",
      " [ 37   3]\n",
      " [113   2]\n",
      " [ 59   6]\n",
      " [ 82   5]\n",
      " [148   3]\n",
      " [ 18   5]\n",
      " [  1   4]\n",
      " [168   3]\n",
      " [  1   3]\n",
      " [ 78   6]\n",
      " [175   5]\n",
      " [ 80   5]\n",
      " [ 27   4]\n",
      " [ 22   2]\n",
      " [105   6]\n",
      " [ 96   3]\n",
      " [131   2]\n",
      " [ 15   7]\n",
      " [  9   5]\n",
      " [  8   3]\n",
      " [100   3]\n",
      " [  4   3]\n",
      " [151   2]\n",
      " [ 31   3]\n",
      " [125   2]\n",
      " [130   5]\n",
      " [112   3]\n",
      " [140   5]\n",
      " [ 93   3]\n",
      " [  1   3]\n",
      " [ 52   5]\n",
      " [ 20   6]\n",
      " [ 91   5]\n",
      " [ 73   5]\n",
      " [ 35   3]\n",
      " [143   9]\n",
      " [ 61   4]\n",
      " [ 97   3]\n",
      " [139   3]\n",
      " [136   4]\n",
      " [131   5]\n",
      " [121   3]\n",
      " [177   2]\n",
      " [ 68   5]\n",
      " [  9   2]\n",
      " [139  10]\n",
      " [  2   2]\n",
      " [140   4]\n",
      " [ 72   5]\n",
      " [  2   3]\n",
      " [120   5]\n",
      " [ 51   7]\n",
      " [102   3]\n",
      " [130   4]\n",
      " [114   7]\n",
      " [ 81   4]\n",
      " [118   3]\n",
      " [118   4]\n",
      " [ 17   4]\n",
      " [195   2]\n",
      " [159   4]\n",
      " [ 18   4]\n",
      " [ 15   5]\n",
      " [158   5]\n",
      " [127   4]\n",
      " [ 87   4]\n",
      " [206   4]\n",
      " [ 11   3]\n",
      " [178   4]\n",
      " [157   3]\n",
      " [ 26   7]\n",
      " [120   2]\n",
      " [ 42   7]\n",
      " [ 36   4]]\n"
     ]
    }
   ],
   "source": [
    "print(x)"
   ]
  },
  {
   "cell_type": "code",
   "execution_count": 7,
   "id": "fce41685",
   "metadata": {},
   "outputs": [],
   "source": [
    "y=data_set.iloc[:,4].values"
   ]
  },
  {
   "cell_type": "code",
   "execution_count": 8,
   "id": "6b6e650d",
   "metadata": {},
   "outputs": [
    {
     "name": "stdout",
     "output_type": "stream",
     "text": [
      "[ 5 14  5  1 15 16 17 16 16 12 14 16  2 12 18 16 15 13 16  9 16  5 12  3\n",
      "  2 13  6 14 16 16 16 11 13 16 11 16  9  6  9 12  1 13  3  1 16 10 15 13\n",
      "  3 14 10 17  6 17 15 15 13  8  9 13  1  8  1 16 16 10 17 13 11 16 14 12\n",
      " 16 10 15 15 13 13 13  6 13]\n"
     ]
    }
   ],
   "source": [
    "print(y)"
   ]
  },
  {
   "cell_type": "code",
   "execution_count": 13,
   "id": "802efe9b",
   "metadata": {},
   "outputs": [],
   "source": [
    "from sklearn.model_selection import train_test_split"
   ]
  },
  {
   "cell_type": "code",
   "execution_count": 14,
   "id": "9a2314ef",
   "metadata": {},
   "outputs": [],
   "source": [
    "x_train,x_test,y_train,y_test=train_test_split(x,y,test_size=0.25,random_state=0)"
   ]
  },
  {
   "cell_type": "code",
   "execution_count": 15,
   "id": "5427b665",
   "metadata": {},
   "outputs": [
    {
     "name": "stdout",
     "output_type": "stream",
     "text": [
      "[[ 37   3]\n",
      " [157   3]\n",
      " [ 36   4]\n",
      " [ 73   5]\n",
      " [ 61   4]\n",
      " [  1   4]\n",
      " [ 87   4]\n",
      " [175   5]\n",
      " [118   3]\n",
      " [113   2]\n",
      " [ 61   2]\n",
      " [102   3]\n",
      " [ 20   6]\n",
      " [  2   3]\n",
      " [140   5]\n",
      " [  4   3]\n",
      " [148   3]\n",
      " [140   4]\n",
      " [131   2]\n",
      " [ 82   5]\n",
      " [125   2]\n",
      " [139   3]\n",
      " [120   2]\n",
      " [158   3]\n",
      " [130   5]\n",
      " [ 18   4]\n",
      " [168   3]\n",
      " [139  10]\n",
      " [ 27   4]\n",
      " [151   2]\n",
      " [130   4]\n",
      " [177   2]\n",
      " [ 15   7]\n",
      " [ 93   3]\n",
      " [ 80   5]\n",
      " [ 71   3]\n",
      " [ 42   7]\n",
      " [  1   3]\n",
      " [  1   2]\n",
      " [ 81   4]\n",
      " [ 78   6]\n",
      " [  9   2]\n",
      " [ 22   2]\n",
      " [178   4]\n",
      " [  9   5]\n",
      " [ 52   5]\n",
      " [136   4]\n",
      " [ 91   5]\n",
      " [ 17   4]\n",
      " [ 51   7]\n",
      " [ 18   5]\n",
      " [158   5]\n",
      " [  1   3]\n",
      " [105   6]\n",
      " [ 59   6]\n",
      " [ 26   7]\n",
      " [159   4]\n",
      " [118   4]\n",
      " [131   5]\n",
      " [ 97   3]]\n"
     ]
    }
   ],
   "source": [
    "print(x_train)"
   ]
  },
  {
   "cell_type": "code",
   "execution_count": 23,
   "id": "60115d45",
   "metadata": {},
   "outputs": [
    {
     "name": "stdout",
     "output_type": "stream",
     "text": [
      "[[ 96   3]\n",
      " [100   3]\n",
      " [114   7]\n",
      " [  1   4]\n",
      " [127   4]\n",
      " [ 11   3]\n",
      " [ 31   3]\n",
      " [ 72   5]\n",
      " [  2   2]\n",
      " [  8   3]\n",
      " [ 68   5]\n",
      " [143   9]\n",
      " [121   3]\n",
      " [112   3]\n",
      " [206   4]\n",
      " [128   4]\n",
      " [120   5]\n",
      " [195   2]\n",
      " [ 35   3]\n",
      " [  2   5]\n",
      " [ 15   5]]\n"
     ]
    }
   ],
   "source": [
    "print(x_test)"
   ]
  },
  {
   "cell_type": "code",
   "execution_count": 24,
   "id": "73cc020c",
   "metadata": {},
   "outputs": [
    {
     "name": "stdout",
     "output_type": "stream",
     "text": [
      "[16 13 13  1  1 15 16 13 16 16 17 13  9 13 11 16 16 15  3 14 11 10 13 14\n",
      " 13 11 18  6  9 16  1 14  2 16 16  5  6 16 16  1 15 17 16 15 13  6 15 12\n",
      " 10  9  2 14  9  5 12 13 13 16 13 16]\n"
     ]
    }
   ],
   "source": [
    "print(y_train)"
   ]
  },
  {
   "cell_type": "code",
   "execution_count": 25,
   "id": "78bccf5b",
   "metadata": {},
   "outputs": [
    {
     "name": "stdout",
     "output_type": "stream",
     "text": [
      "[12 14  8 12 12 15 16 15 17  6 10  3  3 16 10  5  8 17 13  1 16]\n"
     ]
    }
   ],
   "source": [
    "print(y_test)"
   ]
  },
  {
   "cell_type": "code",
   "execution_count": 27,
   "id": "de22602d",
   "metadata": {},
   "outputs": [],
   "source": [
    "from sklearn.preprocessing import StandardScaler"
   ]
  },
  {
   "cell_type": "code",
   "execution_count": 28,
   "id": "d62bc587",
   "metadata": {},
   "outputs": [],
   "source": [
    "st_x=StandardScaler()"
   ]
  },
  {
   "cell_type": "code",
   "execution_count": 29,
   "id": "fbc6fc5e",
   "metadata": {},
   "outputs": [],
   "source": [
    "x_train=st_x.fit_transform(x_train)"
   ]
  },
  {
   "cell_type": "code",
   "execution_count": 30,
   "id": "ffef5146",
   "metadata": {},
   "outputs": [],
   "source": [
    "x_test=st_x.transform(x_test)"
   ]
  },
  {
   "cell_type": "code",
   "execution_count": 31,
   "id": "4637200d",
   "metadata": {},
   "outputs": [
    {
     "name": "stdout",
     "output_type": "stream",
     "text": [
      "[[-0.84591622 -0.6535959 ]\n",
      " [ 1.29188539 -0.6535959 ]\n",
      " [-0.86373124 -0.03112361]\n",
      " [-0.20457574  0.59134867]\n",
      " [-0.4183559  -0.03112361]\n",
      " [-1.48725671 -0.03112361]\n",
      " [ 0.04483445 -0.03112361]\n",
      " [ 1.61255564  0.59134867]\n",
      " [ 0.59709987 -0.6535959 ]\n",
      " [ 0.5080248  -1.27606819]\n",
      " [-0.4183559  -1.27606819]\n",
      " [ 0.31205965 -0.6535959 ]\n",
      " [-1.14877145  1.21382096]\n",
      " [-1.46944169 -0.6535959 ]\n",
      " [ 0.98903016  0.59134867]\n",
      " [-1.43381167 -0.6535959 ]\n",
      " [ 1.13155027 -0.6535959 ]\n",
      " [ 0.98903016 -0.03112361]\n",
      " [ 0.82869504 -1.27606819]\n",
      " [-0.04424062  0.59134867]\n",
      " [ 0.72180496 -1.27606819]\n",
      " [ 0.97121515 -0.6535959 ]\n",
      " [ 0.63272989 -1.27606819]\n",
      " [ 1.30970041 -0.6535959 ]\n",
      " [ 0.81088003  0.59134867]\n",
      " [-1.18440148 -0.03112361]\n",
      " [ 1.48785054 -0.6535959 ]\n",
      " [ 0.97121515  3.7037101 ]\n",
      " [-1.02406636 -0.03112361]\n",
      " [ 1.18499531 -1.27606819]\n",
      " [ 0.81088003 -0.03112361]\n",
      " [ 1.64818566 -1.27606819]\n",
      " [-1.23784652  1.83629324]\n",
      " [ 0.15172453 -0.6535959 ]\n",
      " [-0.07987064  0.59134867]\n",
      " [-0.24020576 -0.6535959 ]\n",
      " [-0.75684116  1.83629324]\n",
      " [-1.48725671 -0.6535959 ]\n",
      " [-1.48725671 -1.27606819]\n",
      " [-0.06205563 -0.03112361]\n",
      " [-0.11550067  1.21382096]\n",
      " [-1.3447366  -1.27606819]\n",
      " [-1.11314142 -1.27606819]\n",
      " [ 1.66600068 -0.03112361]\n",
      " [-1.3447366   0.59134867]\n",
      " [-0.57869102  0.59134867]\n",
      " [ 0.91777011 -0.03112361]\n",
      " [ 0.1160945   0.59134867]\n",
      " [-1.20221649 -0.03112361]\n",
      " [-0.59650603  1.83629324]\n",
      " [-1.18440148  0.59134867]\n",
      " [ 1.30970041  0.59134867]\n",
      " [-1.48725671 -0.6535959 ]\n",
      " [ 0.36550469  1.21382096]\n",
      " [-0.45398593  1.21382096]\n",
      " [-1.04188137  1.83629324]\n",
      " [ 1.32751542 -0.03112361]\n",
      " [ 0.59709987 -0.03112361]\n",
      " [ 0.82869504  0.59134867]\n",
      " [ 0.22298459 -0.6535959 ]]\n"
     ]
    }
   ],
   "source": [
    "print(x_train)"
   ]
  },
  {
   "cell_type": "code",
   "execution_count": 32,
   "id": "d65b4180",
   "metadata": {},
   "outputs": [
    {
     "name": "stdout",
     "output_type": "stream",
     "text": [
      "[[ 96.   3.]\n",
      " [100.   3.]\n",
      " [114.   7.]\n",
      " [  1.   4.]\n",
      " [127.   4.]\n",
      " [ 11.   3.]\n",
      " [ 31.   3.]\n",
      " [ 72.   5.]\n",
      " [  2.   2.]\n",
      " [  8.   3.]\n",
      " [ 68.   5.]\n",
      " [143.   9.]\n",
      " [121.   3.]\n",
      " [112.   3.]\n",
      " [206.   4.]\n",
      " [128.   4.]\n",
      " [120.   5.]\n",
      " [195.   2.]\n",
      " [ 35.   3.]\n",
      " [  2.   5.]\n",
      " [ 15.   5.]]\n"
     ]
    }
   ],
   "source": [
    "print(x_test)"
   ]
  },
  {
   "cell_type": "code",
   "execution_count": 33,
   "id": "59a601d4",
   "metadata": {},
   "outputs": [],
   "source": [
    "from sklearn.neighbors import KNeighborsClassifier"
   ]
  },
  {
   "cell_type": "code",
   "execution_count": 34,
   "id": "5bbd148b",
   "metadata": {},
   "outputs": [],
   "source": [
    "classifier=KNeighborsClassifier(n_neighbors=5,metric='minkowski',p=2)"
   ]
  },
  {
   "cell_type": "code",
   "execution_count": 39,
   "id": "68635174",
   "metadata": {},
   "outputs": [
    {
     "data": {
      "text/plain": [
       "KNeighborsClassifier()"
      ]
     },
     "execution_count": 39,
     "metadata": {},
     "output_type": "execute_result"
    }
   ],
   "source": [
    "classifier.fit(x_train,y_train)"
   ]
  },
  {
   "cell_type": "code",
   "execution_count": 40,
   "id": "b1ced8b9",
   "metadata": {},
   "outputs": [
    {
     "name": "stdout",
     "output_type": "stream",
     "text": [
      "KNeighborsClassifier()\n"
     ]
    }
   ],
   "source": [
    "print(classifier)"
   ]
  },
  {
   "cell_type": "code",
   "execution_count": 37,
   "id": "9f9c1113",
   "metadata": {},
   "outputs": [],
   "source": [
    "y_pred=classifier.predict(x_test)"
   ]
  },
  {
   "cell_type": "code",
   "execution_count": 38,
   "id": "cfbac343",
   "metadata": {},
   "outputs": [
    {
     "name": "stdout",
     "output_type": "stream",
     "text": [
      "[14 13 14  6 14 13 14 14 13 13 14 14 13 13 13 14 14 13 14  6 13]\n"
     ]
    }
   ],
   "source": [
    "print(y_pred)"
   ]
  },
  {
   "cell_type": "code",
   "execution_count": 41,
   "id": "dc596aaf",
   "metadata": {},
   "outputs": [],
   "source": [
    "from sklearn.metrics import confusion_matrix"
   ]
  },
  {
   "cell_type": "code",
   "execution_count": 43,
   "id": "5a1bdcb9",
   "metadata": {},
   "outputs": [],
   "source": [
    "cm=confusion_matrix(y_test,y_pred)"
   ]
  },
  {
   "cell_type": "code",
   "execution_count": 44,
   "id": "2ae94607",
   "metadata": {},
   "outputs": [
    {
     "name": "stdout",
     "output_type": "stream",
     "text": [
      "[[0 0 0 1 0 0 0 0 0 0 0 0]\n",
      " [0 0 0 0 0 0 0 1 1 0 0 0]\n",
      " [0 0 0 0 0 0 0 0 1 0 0 0]\n",
      " [0 0 0 0 0 0 0 1 0 0 0 0]\n",
      " [0 0 0 0 0 0 0 0 2 0 0 0]\n",
      " [0 0 0 0 0 0 0 1 1 0 0 0]\n",
      " [0 0 0 1 0 0 0 0 2 0 0 0]\n",
      " [0 0 0 0 0 0 0 0 1 0 0 0]\n",
      " [0 0 0 0 0 0 0 1 0 0 0 0]\n",
      " [0 0 0 0 0 0 0 1 1 0 0 0]\n",
      " [0 0 0 0 0 0 0 2 1 0 0 0]\n",
      " [0 0 0 0 0 0 0 2 0 0 0 0]]\n"
     ]
    }
   ],
   "source": [
    "print(cm)"
   ]
  },
  {
   "cell_type": "code",
   "execution_count": 45,
   "id": "6aff9688",
   "metadata": {},
   "outputs": [],
   "source": [
    "from matplotlib.colors import ListedColormap  "
   ]
  },
  {
   "cell_type": "code",
   "execution_count": 53,
   "id": "61acce01",
   "metadata": {},
   "outputs": [
    {
     "name": "stderr",
     "output_type": "stream",
     "text": [
      "*c* argument looks like a single numeric RGB or RGBA sequence, which should be avoided as value-mapping will have precedence in case its length matches with *x* & *y*.  Please use the *color* keyword-argument or provide a 2D array with a single row if you intend to specify the same RGB or RGBA value for all points.\n",
      "*c* argument looks like a single numeric RGB or RGBA sequence, which should be avoided as value-mapping will have precedence in case its length matches with *x* & *y*.  Please use the *color* keyword-argument or provide a 2D array with a single row if you intend to specify the same RGB or RGBA value for all points.\n",
      "*c* argument looks like a single numeric RGB or RGBA sequence, which should be avoided as value-mapping will have precedence in case its length matches with *x* & *y*.  Please use the *color* keyword-argument or provide a 2D array with a single row if you intend to specify the same RGB or RGBA value for all points.\n",
      "*c* argument looks like a single numeric RGB or RGBA sequence, which should be avoided as value-mapping will have precedence in case its length matches with *x* & *y*.  Please use the *color* keyword-argument or provide a 2D array with a single row if you intend to specify the same RGB or RGBA value for all points.\n",
      "*c* argument looks like a single numeric RGB or RGBA sequence, which should be avoided as value-mapping will have precedence in case its length matches with *x* & *y*.  Please use the *color* keyword-argument or provide a 2D array with a single row if you intend to specify the same RGB or RGBA value for all points.\n",
      "*c* argument looks like a single numeric RGB or RGBA sequence, which should be avoided as value-mapping will have precedence in case its length matches with *x* & *y*.  Please use the *color* keyword-argument or provide a 2D array with a single row if you intend to specify the same RGB or RGBA value for all points.\n",
      "*c* argument looks like a single numeric RGB or RGBA sequence, which should be avoided as value-mapping will have precedence in case its length matches with *x* & *y*.  Please use the *color* keyword-argument or provide a 2D array with a single row if you intend to specify the same RGB or RGBA value for all points.\n",
      "*c* argument looks like a single numeric RGB or RGBA sequence, which should be avoided as value-mapping will have precedence in case its length matches with *x* & *y*.  Please use the *color* keyword-argument or provide a 2D array with a single row if you intend to specify the same RGB or RGBA value for all points.\n",
      "*c* argument looks like a single numeric RGB or RGBA sequence, which should be avoided as value-mapping will have precedence in case its length matches with *x* & *y*.  Please use the *color* keyword-argument or provide a 2D array with a single row if you intend to specify the same RGB or RGBA value for all points.\n",
      "*c* argument looks like a single numeric RGB or RGBA sequence, which should be avoided as value-mapping will have precedence in case its length matches with *x* & *y*.  Please use the *color* keyword-argument or provide a 2D array with a single row if you intend to specify the same RGB or RGBA value for all points.\n",
      "*c* argument looks like a single numeric RGB or RGBA sequence, which should be avoided as value-mapping will have precedence in case its length matches with *x* & *y*.  Please use the *color* keyword-argument or provide a 2D array with a single row if you intend to specify the same RGB or RGBA value for all points.\n",
      "*c* argument looks like a single numeric RGB or RGBA sequence, which should be avoided as value-mapping will have precedence in case its length matches with *x* & *y*.  Please use the *color* keyword-argument or provide a 2D array with a single row if you intend to specify the same RGB or RGBA value for all points.\n"
     ]
    },
    {
     "data": {
      "image/png": "[encoded data removed]",
      "text/plain": [
       "<Figure size 432x288 with 1 Axes>"
      ]
     },
     "metadata": {
      "needs_background": "light"
     },
     "output_type": "display_data"
    }
   ],
   "source": [
    "x_set, y_set = x_train, y_train  \n",
    "x1, x2 = nm.meshgrid(nm.arange(start = x_set[:, 0].min() - 1, stop = x_set[:, 0].max() + 1, step  =0.01),  \n",
    "nm.arange(start = x_set[:, 1].min() - 1, stop = x_set[:, 1].max() + 1, step = 0.01))  \n",
    "mtp.contourf(x1, x2, classifier.predict(nm.array([x1.ravel(), x2.ravel()]).T).reshape(x1.shape),  \n",
    "alpha = 0.75, cmap = ListedColormap(('red','green' )))  \n",
    "mtp.xlim(x1.min(), x1.max())  \n",
    "mtp.ylim(x2.min(), x2.max())  \n",
    "for i, j in enumerate(nm.unique(y_set)):  \n",
    "    mtp.scatter(x_set[y_set == j, 0], x_set[y_set == j, 1],  \n",
    "        c = ListedColormap(('red', 'green'))(i), label = j)  \n",
    "mtp.title('K-NN Algorithm (Training set)')  \n",
    "mtp.xlabel('Age')  \n",
    "mtp.ylabel('Estimated Salary')  \n",
    "mtp.legend()  \n",
    "mtp.show()  "
   ]
  },
  {
   "cell_type": "code",
   "execution_count": 55,
   "id": "403134df",
   "metadata": {},
   "outputs": [],
   "source": [
    "from sklearn.metrics import accuracy_score"
   ]
  },
  {
   "cell_type": "code",
   "execution_count": 56,
   "id": "784956ef",
   "metadata": {},
   "outputs": [
    {
     "name": "stdout",
     "output_type": "stream",
     "text": [
      "0.0\n"
     ]
    }
   ],
   "source": [
    "print(accuracy_score(y_test, y_pred))"
   ]
  },
  {
   "cell_type": "markdown",
   "id": "dc40635f",
   "metadata": {},
   "source": [
    "# Dicision tree"
   ]
  },
  {
   "cell_type": "code",
   "execution_count": 60,
   "id": "0719a0f5",
   "metadata": {},
   "outputs": [],
   "source": [
    "import pandas as pd\n",
    "import numpy as np\n",
    "import matplotlib.pyplot as plt\n",
    "import seaborn as sns\n"
   ]
  },
  {
   "cell_type": "code",
   "execution_count": 61,
   "id": "77ad0700",
   "metadata": {},
   "outputs": [],
   "source": [
    "df=pd.read_csv('kyphosis.csv')"
   ]
  },
  {
   "cell_type": "code",
   "execution_count": 62,
   "id": "899449ff",
   "metadata": {},
   "outputs": [
    {
     "data": {
      "text/html": [
       "<div>\n",
       "<style scoped>\n",
       "    .dataframe tbody tr th:only-of-type {\n",
       "        vertical-align: middle;\n",
       "    }\n",
       "\n",
       "    .dataframe tbody tr th {\n",
       "        vertical-align: top;\n",
       "    }\n",
       "\n",
       "    .dataframe thead th {\n",
       "        text-align: right;\n",
       "    }\n",
       "</style>\n",
       "<table border=\"1\" class=\"dataframe\">\n",
       "  <thead>\n",
       "    <tr style=\"text-align: right;\">\n",
       "      <th></th>\n",
       "      <th>Unnamed: 0</th>\n",
       "      <th>Kyphosis</th>\n",
       "      <th>Age</th>\n",
       "      <th>Number</th>\n",
       "      <th>Start</th>\n",
       "    </tr>\n",
       "  </thead>\n",
       "  <tbody>\n",
       "    <tr>\n",
       "      <th>0</th>\n",
       "      <td>1</td>\n",
       "      <td>absent</td>\n",
       "      <td>71</td>\n",
       "      <td>3</td>\n",
       "      <td>5</td>\n",
       "    </tr>\n",
       "    <tr>\n",
       "      <th>1</th>\n",
       "      <td>2</td>\n",
       "      <td>absent</td>\n",
       "      <td>158</td>\n",
       "      <td>3</td>\n",
       "      <td>14</td>\n",
       "    </tr>\n",
       "    <tr>\n",
       "      <th>2</th>\n",
       "      <td>3</td>\n",
       "      <td>present</td>\n",
       "      <td>128</td>\n",
       "      <td>4</td>\n",
       "      <td>5</td>\n",
       "    </tr>\n",
       "    <tr>\n",
       "      <th>3</th>\n",
       "      <td>4</td>\n",
       "      <td>absent</td>\n",
       "      <td>2</td>\n",
       "      <td>5</td>\n",
       "      <td>1</td>\n",
       "    </tr>\n",
       "    <tr>\n",
       "      <th>4</th>\n",
       "      <td>5</td>\n",
       "      <td>absent</td>\n",
       "      <td>1</td>\n",
       "      <td>4</td>\n",
       "      <td>15</td>\n",
       "    </tr>\n",
       "  </tbody>\n",
       "</table>\n",
       "</div>"
      ],
      "text/plain": [
       "   Unnamed: 0 Kyphosis  Age  Number  Start\n",
       "0           1   absent   71       3      5\n",
       "1           2   absent  158       3     14\n",
       "2           3  present  128       4      5\n",
       "3           4   absent    2       5      1\n",
       "4           5   absent    1       4     15"
      ]
     },
     "execution_count": 62,
     "metadata": {},
     "output_type": "execute_result"
    }
   ],
   "source": [
    "df.head()"
   ]
  },
  {
   "cell_type": "code",
   "execution_count": 64,
   "id": "6c60a726",
   "metadata": {},
   "outputs": [
    {
     "data": {
      "text/plain": [
       "<seaborn.axisgrid.PairGrid at 0x2278bd80df0>"
      ]
     },
     "execution_count": 64,
     "metadata": {},
     "output_type": "execute_result"
    },
    {
     "data": {
      "image/png": "[encoded data removed]",
      "text/plain": [
       "<Figure size 793.875x720 with 20 Axes>"
      ]
     },
     "metadata": {
      "needs_background": "light"
     },
     "output_type": "display_data"
    }
   ],
   "source": [
    "sns.pairplot(df,hue='Kyphosis',palette='Set1')"
   ]
  },
  {
   "cell_type": "code",
   "execution_count": 65,
   "id": "93fbd48e",
   "metadata": {},
   "outputs": [],
   "source": [
    "from sklearn.model_selection import train_test_split"
   ]
  },
  {
   "cell_type": "code",
   "execution_count": 66,
   "id": "e5a0ebf4",
   "metadata": {},
   "outputs": [],
   "source": [
    "X=df.drop('Kyphosis',axis=1)"
   ]
  },
  {
   "cell_type": "code",
   "execution_count": 67,
   "id": "94826c9c",
   "metadata": {},
   "outputs": [
    {
     "name": "stdout",
     "output_type": "stream",
     "text": [
      "    Unnamed: 0  Age  Number  Start\n",
      "0            1   71       3      5\n",
      "1            2  158       3     14\n",
      "2            3  128       4      5\n",
      "3            4    2       5      1\n",
      "4            5    1       4     15\n",
      "..         ...  ...     ...    ...\n",
      "76          77  157       3     13\n",
      "77          78   26       7     13\n",
      "78          79  120       2     13\n",
      "79          80   42       7      6\n",
      "80          81   36       4     13\n",
      "\n",
      "[81 rows x 4 columns]\n"
     ]
    }
   ],
   "source": [
    "print(X)"
   ]
  },
  {
   "cell_type": "code",
   "execution_count": 68,
   "id": "15d1f1ba",
   "metadata": {},
   "outputs": [],
   "source": [
    "y=df['Kyphosis']"
   ]
  },
  {
   "cell_type": "code",
   "execution_count": 69,
   "id": "b6b9d861",
   "metadata": {},
   "outputs": [
    {
     "name": "stdout",
     "output_type": "stream",
     "text": [
      "0      absent\n",
      "1      absent\n",
      "2     present\n",
      "3      absent\n",
      "4      absent\n",
      "       ...   \n",
      "76    present\n",
      "77     absent\n",
      "78     absent\n",
      "79    present\n",
      "80     absent\n",
      "Name: Kyphosis, Length: 81, dtype: object\n"
     ]
    }
   ],
   "source": [
    "print(y)"
   ]
  },
  {
   "cell_type": "code",
   "execution_count": 70,
   "id": "c119806a",
   "metadata": {},
   "outputs": [],
   "source": [
    "X_train,X_test,y_train,y_test=train_test_split(X,y,test_size=0.30)"
   ]
  },
  {
   "cell_type": "code",
   "execution_count": 72,
   "id": "df40200c",
   "metadata": {},
   "outputs": [
    {
     "name": "stdout",
     "output_type": "stream",
     "text": [
      "    Unnamed: 0  Age  Number  Start\n",
      "59          60  102       3     13\n",
      "77          78   26       7     13\n",
      "52          53  139      10      6\n",
      "40          41   73       5      1\n",
      "20          21   22       2     16\n",
      "71          72  127       4     12\n",
      "66          67  195       2     17\n",
      "22          23   96       3     12\n",
      "43          44   61       4      1\n",
      "58          59   51       7      9\n",
      "72          73   87       4     16\n",
      "45          46  139       3     10\n",
      "50          51   68       5     10\n",
      "32          33  130       5     13\n",
      "60          61  130       4      1\n",
      "16          17   78       6     15\n",
      "47          48  131       5     13\n",
      "34          35  140       5     11\n",
      "6            7   61       2     17\n",
      "5            6    1       2     16\n",
      "39          40   91       5     12\n",
      "31          32  125       2     11\n",
      "0            1   71       3      5\n",
      "57          58  120       5      8\n",
      "33          34  112       3     16\n",
      "44          45   97       3     16\n",
      "2            3  128       4      5\n",
      "18          19   80       5     16\n",
      "17          18  175       5     13\n",
      "54          55  140       4     15\n",
      "78          79  120       2     13\n",
      "19          20   27       4      9\n",
      "76          77  157       3     13\n",
      "46          47  136       4     15\n",
      "30          31   31       3     16\n",
      "24          25   15       7      2\n",
      "3            4    2       5      1\n",
      "42          43  143       9      3\n",
      "75          76  178       4     15\n",
      "74          75   11       3     15\n",
      "61          62  114       7      8\n",
      "21          22  105       6      5\n",
      "62          63   81       4      1\n",
      "7            8   37       3     16\n",
      "69          70   15       5     16\n",
      "51          52    9       2     17\n",
      "26          27    8       3      6\n",
      "9           10   59       6     12\n",
      "15          16    1       3     16\n",
      "56          57    2       3     13\n",
      "63          64  118       3     16\n",
      "27          28  100       3     14\n",
      "68          69   18       4     11\n",
      "67          68  159       4     13\n",
      "49          50  177       2     14\n",
      "79          80   42       7      6\n"
     ]
    }
   ],
   "source": [
    "print(X_train)"
   ]
  },
  {
   "cell_type": "code",
   "execution_count": 73,
   "id": "6c23c1b6",
   "metadata": {},
   "outputs": [
    {
     "name": "stdout",
     "output_type": "stream",
     "text": [
      "    Unnamed: 0  Age  Number  Start\n",
      "29          30  151       2     16\n",
      "35          36   93       3     16\n",
      "70          71  158       5     14\n",
      "41          42   35       3     13\n",
      "13          14    1       4     12\n",
      "55          56   72       5     15\n",
      "65          66   17       4     10\n",
      "38          39   20       6      9\n",
      "14          15  168       3     18\n",
      "36          37    1       3      9\n",
      "64          65  118       4     16\n",
      "23          24  131       2      3\n",
      "25          26    9       5     13\n",
      "8            9  113       2     16\n",
      "28          29    4       3     16\n",
      "80          81   36       4     13\n",
      "12          13   18       5      2\n",
      "73          74  206       4     10\n",
      "11          12  148       3     16\n",
      "48          49  121       3      3\n",
      "37          38   52       5      6\n",
      "4            5    1       4     15\n",
      "1            2  158       3     14\n",
      "53          54    2       2     17\n",
      "10          11   82       5     14\n"
     ]
    }
   ],
   "source": [
    "print(X_test)"
   ]
  },
  {
   "cell_type": "code",
   "execution_count": 74,
   "id": "f905f55d",
   "metadata": {},
   "outputs": [
    {
     "name": "stdout",
     "output_type": "stream",
     "text": [
      "59     absent\n",
      "77     absent\n",
      "52    present\n",
      "40    present\n",
      "20     absent\n",
      "71     absent\n",
      "66     absent\n",
      "22    present\n",
      "43     absent\n",
      "58     absent\n",
      "72     absent\n",
      "45    present\n",
      "50     absent\n",
      "32     absent\n",
      "60    present\n",
      "16     absent\n",
      "47     absent\n",
      "34     absent\n",
      "6      absent\n",
      "5      absent\n",
      "39    present\n",
      "31     absent\n",
      "0      absent\n",
      "57    present\n",
      "33     absent\n",
      "44     absent\n",
      "2     present\n",
      "18     absent\n",
      "17     absent\n",
      "54     absent\n",
      "78     absent\n",
      "19     absent\n",
      "76    present\n",
      "46     absent\n",
      "30     absent\n",
      "24    present\n",
      "3      absent\n",
      "42     absent\n",
      "75     absent\n",
      "74     absent\n",
      "61    present\n",
      "21    present\n",
      "62     absent\n",
      "7      absent\n",
      "69     absent\n",
      "51     absent\n",
      "26     absent\n",
      "9     present\n",
      "15     absent\n",
      "56     absent\n",
      "63     absent\n",
      "27     absent\n",
      "68     absent\n",
      "67     absent\n",
      "49     absent\n",
      "79    present\n",
      "Name: Kyphosis, dtype: object\n"
     ]
    }
   ],
   "source": [
    "print(y_train)"
   ]
  },
  {
   "cell_type": "code",
   "execution_count": 75,
   "id": "e3b1877d",
   "metadata": {},
   "outputs": [
    {
     "name": "stdout",
     "output_type": "stream",
     "text": [
      "29     absent\n",
      "35     absent\n",
      "70     absent\n",
      "41     absent\n",
      "13     absent\n",
      "55     absent\n",
      "65     absent\n",
      "38     absent\n",
      "14     absent\n",
      "36     absent\n",
      "64     absent\n",
      "23     absent\n",
      "25     absent\n",
      "8      absent\n",
      "28     absent\n",
      "80     absent\n",
      "12     absent\n",
      "73     absent\n",
      "11     absent\n",
      "48    present\n",
      "37    present\n",
      "4      absent\n",
      "1      absent\n",
      "53     absent\n",
      "10    present\n",
      "Name: Kyphosis, dtype: object\n"
     ]
    }
   ],
   "source": [
    "print(y_test)"
   ]
  },
  {
   "cell_type": "code",
   "execution_count": 76,
   "id": "48ea7d3a",
   "metadata": {},
   "outputs": [],
   "source": [
    "from sklearn.tree import DecisionTreeClassifier"
   ]
  },
  {
   "cell_type": "code",
   "execution_count": 77,
   "id": "969035b0",
   "metadata": {},
   "outputs": [],
   "source": [
    "dtree=DecisionTreeClassifier()"
   ]
  },
  {
   "cell_type": "code",
   "execution_count": 78,
   "id": "5b06883e",
   "metadata": {},
   "outputs": [
    {
     "name": "stdout",
     "output_type": "stream",
     "text": [
      "DecisionTreeClassifier()\n"
     ]
    }
   ],
   "source": [
    "print(dtree)"
   ]
  },
  {
   "cell_type": "code",
   "execution_count": 80,
   "id": "64a43ed7",
   "metadata": {},
   "outputs": [
    {
     "data": {
      "text/plain": [
       "DecisionTreeClassifier()"
      ]
     },
     "execution_count": 80,
     "metadata": {},
     "output_type": "execute_result"
    }
   ],
   "source": [
    "dtree.fit(X_train,y_train)"
   ]
  },
  {
   "cell_type": "code",
   "execution_count": 84,
   "id": "c726f6ef",
   "metadata": {},
   "outputs": [],
   "source": [
    "predictions=dtree.predict(X_test)"
   ]
  },
  {
   "cell_type": "code",
   "execution_count": 85,
   "id": "55becb25",
   "metadata": {},
   "outputs": [
    {
     "name": "stdout",
     "output_type": "stream",
     "text": [
      "['absent' 'absent' 'absent' 'absent' 'absent' 'absent' 'absent' 'present'\n",
      " 'absent' 'absent' 'absent' 'absent' 'absent' 'absent' 'absent' 'absent'\n",
      " 'absent' 'absent' 'absent' 'present' 'absent' 'absent' 'absent' 'absent'\n",
      " 'absent']\n"
     ]
    }
   ],
   "source": [
    "print(predictions)"
   ]
  },
  {
   "cell_type": "code",
   "execution_count": 87,
   "id": "552b6850",
   "metadata": {},
   "outputs": [],
   "source": [
    "from sklearn.metrics import classification_report,confusion_matrix"
   ]
  },
  {
   "cell_type": "code",
   "execution_count": 88,
   "id": "b4a1918e",
   "metadata": {},
   "outputs": [
    {
     "name": "stdout",
     "output_type": "stream",
     "text": [
      "              precision    recall  f1-score   support\n",
      "\n",
      "      absent       0.91      0.95      0.93        22\n",
      "     present       0.50      0.33      0.40         3\n",
      "\n",
      "    accuracy                           0.88        25\n",
      "   macro avg       0.71      0.64      0.67        25\n",
      "weighted avg       0.86      0.88      0.87        25\n",
      "\n"
     ]
    }
   ],
   "source": [
    "print(classification_report(y_test,predictions))"
   ]
  },
  {
   "cell_type": "markdown",
   "id": "1e9256c1",
   "metadata": {},
   "source": [
    "# Random forest"
   ]
  },
  {
   "cell_type": "code",
   "execution_count": 99,
   "id": "b565a075",
   "metadata": {},
   "outputs": [],
   "source": [
    "from sklearn.ensemble import RandomForestClassifier\n",
    "from sklearn.datasets import make_classification"
   ]
  },
  {
   "cell_type": "code",
   "execution_count": 100,
   "id": "f8d49fce",
   "metadata": {},
   "outputs": [],
   "source": [
    "X, y = make_classification(n_samples=1000, n_features=4,\n",
    "                            n_informative=2, n_redundant=0,\n",
    "                           random_state=0, shuffle=False)"
   ]
  },
  {
   "cell_type": "code",
   "execution_count": 102,
   "id": "aae5c283",
   "metadata": {},
   "outputs": [
    {
     "name": "stdout",
     "output_type": "stream",
     "text": [
      "[[-1.66853167 -1.29901346  0.2746472  -0.60362044]\n",
      " [-2.9728827  -1.08878294  0.70885958  0.42281857]\n",
      " [-0.59614125 -1.37007001 -3.11685659  0.64445203]\n",
      " ...\n",
      " [ 0.91711204  1.10596645  0.86766522 -2.25625012]\n",
      " [ 0.10027664  1.45875846 -0.44360274 -0.67002328]\n",
      " [ 1.0415229  -0.01987143  0.15216419 -1.9405334 ]]\n"
     ]
    }
   ],
   "source": [
    "print(X)"
   ]
  },
  {
   "cell_type": "code",
   "execution_count": 103,
   "id": "be78dc85",
   "metadata": {},
   "outputs": [
    {
     "name": "stdout",
     "output_type": "stream",
     "text": [
      "[0 0 0 0 0 0 0 0 0 0 0 0 0 0 0 0 0 0 0 0 0 0 0 0 0 0 0 0 0 0 0 0 0 0 0 0 0\n",
      " 0 0 0 0 0 0 0 0 0 0 0 0 0 0 0 0 0 0 0 0 0 0 0 0 0 0 0 0 0 0 0 0 0 0 0 0 0\n",
      " 0 0 0 0 0 0 0 0 0 0 0 0 0 0 0 0 0 0 0 0 0 0 0 0 0 0 0 0 0 0 0 0 0 0 0 0 0\n",
      " 0 0 0 0 0 0 0 0 0 0 0 0 0 0 0 0 0 0 1 0 0 0 0 0 0 0 0 0 0 0 0 0 0 0 0 0 0\n",
      " 0 0 0 0 0 0 0 0 0 0 0 0 0 0 0 0 0 0 0 0 0 0 0 0 0 0 0 0 0 0 0 0 0 0 0 0 0\n",
      " 0 0 0 0 0 0 0 0 0 0 0 0 0 0 0 0 0 0 0 0 0 0 0 0 0 0 0 0 0 0 0 0 0 0 0 0 0\n",
      " 0 0 0 0 0 0 0 0 0 0 0 0 0 0 0 0 0 0 0 0 0 0 0 0 0 0 0 0 1 1 1 1 1 1 1 1 1\n",
      " 1 1 1 1 1 1 1 1 1 1 1 1 1 1 1 1 1 1 1 1 1 1 1 1 1 1 1 1 1 1 1 1 1 1 1 1 1\n",
      " 1 1 1 1 1 1 1 1 1 1 1 1 1 1 1 1 1 0 1 1 1 1 1 1 1 1 1 1 1 1 1 1 1 1 1 1 1\n",
      " 1 1 1 1 1 1 1 1 1 1 1 1 1 1 1 1 1 1 1 1 1 1 1 1 1 1 1 1 1 1 1 1 0 1 1 1 1\n",
      " 1 1 1 1 1 1 1 1 1 1 1 1 1 1 1 1 1 1 1 1 1 1 1 1 1 1 1 1 1 1 1 1 1 1 1 1 1\n",
      " 0 1 1 1 1 1 1 1 1 1 1 1 1 1 1 1 1 1 1 1 1 1 1 1 1 1 1 1 1 1 1 1 1 1 1 1 1\n",
      " 1 1 1 1 1 1 1 1 1 1 1 1 1 1 1 1 1 1 1 1 1 1 1 1 1 1 1 1 1 1 1 1 1 1 1 1 1\n",
      " 1 1 1 1 1 1 1 1 1 1 1 1 1 1 1 1 1 1 1 0 0 0 0 0 0 0 0 0 0 0 0 0 0 0 0 0 0\n",
      " 0 0 0 0 0 0 0 0 0 0 0 0 0 0 0 0 0 0 0 0 0 0 0 0 0 0 0 0 0 0 0 0 0 1 0 0 0\n",
      " 0 0 0 0 0 0 0 0 0 0 0 0 0 0 0 0 0 0 0 0 0 0 0 0 0 0 0 0 0 0 0 0 0 0 0 0 0\n",
      " 0 0 0 0 0 0 0 0 0 0 0 0 0 0 0 0 0 0 0 0 0 0 0 0 0 0 0 0 0 0 0 0 0 0 0 0 0\n",
      " 0 0 0 0 0 0 0 0 0 0 0 0 0 0 0 1 0 0 0 0 0 0 0 0 0 0 0 0 0 0 0 0 0 0 0 0 0\n",
      " 0 0 0 0 0 0 0 0 0 0 0 0 0 0 0 0 0 0 0 0 0 0 0 0 0 0 0 0 0 0 0 0 0 0 0 0 0\n",
      " 0 0 0 0 0 0 0 0 0 0 0 0 0 0 0 0 0 0 0 0 0 0 0 0 0 0 0 0 0 0 0 0 0 0 0 0 0\n",
      " 0 0 0 0 0 0 0 0 0 0 1 1 1 1 1 1 1 1 1 1 1 1 1 1 1 1 1 1 1 1 1 1 1 1 1 1 1\n",
      " 1 0 1 1 1 1 1 1 1 1 1 1 1 1 1 1 1 1 1 1 1 1 1 1 1 1 1 1 1 1 1 1 1 1 1 1 1\n",
      " 1 1 1 1 1 1 1 1 1 1 1 1 1 1 1 1 1 1 1 1 1 1 1 1 1 1 1 1 1 1 1 1 1 1 1 1 1\n",
      " 1 1 1 1 1 1 1 1 1 1 1 1 1 1 1 1 1 1 1 1 1 0 1 1 1 1 1 1 1 1 1 1 1 1 1 1 1\n",
      " 1 1 1 1 1 1 1 1 1 1 1 1 1 1 1 1 1 1 1 1 1 1 1 1 1 1 1 1 1 1 1 1 1 1 1 1 1\n",
      " 1 1 1 1 1 1 1 1 1 1 1 1 1 1 1 1 1 1 1 1 1 1 1 1 0 1 1 1 1 1 1 1 1 1 1 1 1\n",
      " 1 1 1 1 1 1 1 1 1 1 1 1 1 1 1 1 1 1 1 1 1 1 1 1 1 1 1 1 1 1 1 1 0 1 1 1 1\n",
      " 1]\n"
     ]
    }
   ],
   "source": [
    "print(y)"
   ]
  },
  {
   "cell_type": "code",
   "execution_count": 104,
   "id": "6d59abc6",
   "metadata": {},
   "outputs": [],
   "source": [
    " clf = RandomForestClassifier(max_depth=2, random_state=0)"
   ]
  },
  {
   "cell_type": "code",
   "execution_count": 105,
   "id": "7fa9d396",
   "metadata": {},
   "outputs": [
    {
     "name": "stdout",
     "output_type": "stream",
     "text": [
      "RandomForestClassifier(max_depth=2, random_state=0)\n"
     ]
    }
   ],
   "source": [
    "print(clf)"
   ]
  },
  {
   "cell_type": "code",
   "execution_count": 106,
   "id": "6c12dabc",
   "metadata": {},
   "outputs": [
    {
     "data": {
      "text/plain": [
       "RandomForestClassifier(n_estimators=Ellipsis)"
      ]
     },
     "execution_count": 106,
     "metadata": {},
     "output_type": "execute_result"
    }
   ],
   "source": [
    "clf.fit(X, y)\n",
    "RandomForestClassifier(...)"
   ]
  },
  {
   "cell_type": "code",
   "execution_count": 107,
   "id": "02489ac2",
   "metadata": {},
   "outputs": [
    {
     "name": "stdout",
     "output_type": "stream",
     "text": [
      "[1]\n"
     ]
    }
   ],
   "source": [
    "print(clf.predict([[0, 0, 0, 0]]))"
   ]
  },
  {
   "cell_type": "code",
   "execution_count": 130,
   "id": "653df806",
   "metadata": {},
   "outputs": [],
   "source": [
    "from sklearn.ensemble import RandomForestClassifier\n",
    "import pandas as pd\n",
    "from sklearn import datasets "
   ]
  },
  {
   "cell_type": "code",
   "execution_count": 120,
   "id": "18800978",
   "metadata": {},
   "outputs": [],
   "source": [
    "df=pd.read_csv('kyphosis.csv')"
   ]
  },
  {
   "cell_type": "code",
   "execution_count": 121,
   "id": "957a8a29",
   "metadata": {},
   "outputs": [
    {
     "name": "stdout",
     "output_type": "stream",
     "text": [
      "    Unnamed: 0 Kyphosis  Age  Number  Start\n",
      "0            1   absent   71       3      5\n",
      "1            2   absent  158       3     14\n",
      "2            3  present  128       4      5\n",
      "3            4   absent    2       5      1\n",
      "4            5   absent    1       4     15\n",
      "..         ...      ...  ...     ...    ...\n",
      "76          77  present  157       3     13\n",
      "77          78   absent   26       7     13\n",
      "78          79   absent  120       2     13\n",
      "79          80  present   42       7      6\n",
      "80          81   absent   36       4     13\n",
      "\n",
      "[81 rows x 5 columns]\n"
     ]
    }
   ],
   "source": [
    "print(df)"
   ]
  },
  {
   "cell_type": "code",
   "execution_count": 126,
   "id": "dd3f6877",
   "metadata": {},
   "outputs": [
    {
     "name": "stdout",
     "output_type": "stream",
     "text": [
      "   Unnamed: 0 Kyphosis  Age  Number  Start\n",
      "0           1   absent   71       3      5\n",
      "1           2   absent  158       3     14\n",
      "2           3  present  128       4      5\n",
      "3           4   absent    2       5      1\n",
      "4           5   absent    1       4     15\n"
     ]
    }
   ],
   "source": [
    "print(df)"
   ]
  },
  {
   "cell_type": "code",
   "execution_count": 127,
   "id": "91352931",
   "metadata": {},
   "outputs": [],
   "source": [
    "clf = RandomForestClassifier(n_estimators = 100)"
   ]
  },
  {
   "cell_type": "code",
   "execution_count": 128,
   "id": "e2ffb5ed",
   "metadata": {},
   "outputs": [
    {
     "name": "stdout",
     "output_type": "stream",
     "text": [
      "RandomForestClassifier()\n"
     ]
    }
   ],
   "source": [
    "print(clf)"
   ]
  },
  {
   "cell_type": "code",
   "execution_count": 134,
   "id": "e46a14d9",
   "metadata": {},
   "outputs": [],
   "source": [
    "from sklearn import metrics "
   ]
  },
  {
   "cell_type": "code",
   "execution_count": 137,
   "id": "3c02e402",
   "metadata": {},
   "outputs": [],
   "source": [
    "from sklearn.model_selection import train_test_split"
   ]
  },
  {
   "cell_type": "code",
   "execution_count": 138,
   "id": "44ed8c4b",
   "metadata": {},
   "outputs": [],
   "source": [
    "X_train, X_test, y_train, y_test = train_test_split(X, y, test_size = 0.30)"
   ]
  },
  {
   "cell_type": "code",
   "execution_count": 139,
   "id": "0374ab09",
   "metadata": {},
   "outputs": [
    {
     "data": {
      "text/plain": [
       "RandomForestClassifier()"
      ]
     },
     "execution_count": 139,
     "metadata": {},
     "output_type": "execute_result"
    }
   ],
   "source": [
    "clf.fit(X_train, y_train)"
   ]
  },
  {
   "cell_type": "code",
   "execution_count": 140,
   "id": "8f1777fb",
   "metadata": {},
   "outputs": [],
   "source": [
    "y_pred = clf.predict(X_test)"
   ]
  },
  {
   "cell_type": "code",
   "execution_count": 141,
   "id": "b965f9f6",
   "metadata": {},
   "outputs": [
    {
     "name": "stdout",
     "output_type": "stream",
     "text": [
      "[1 1 0 0 0 1 1 0 1 1 0 1 1 1 0 1 0 0 1 1 1 0 1 0 0 1 0 1 1 1 0 1 1 1 1 0 0\n",
      " 0 0 0 1 1 0 0 1 1 0 0 0 1 0 0 1 0 0 1 1 0 1 0 0 0 1 1 0 1 1 0 1 0 1 0 1 0\n",
      " 0 1 0 1 0 1 0 1 1 0 1 1 1 1 1 0 1 0 0 0 0 1 1 1 0 0 1 0 0 0 1 0 1 1 0 0 0\n",
      " 1 0 0 0 0 0 1 0 1 0 0 0 1 1 1 1 0 0 0 0 0 1 0 0 0 1 1 0 1 1 1 1 1 0 1 1 1\n",
      " 1 1 0 1 1 0 1 1 0 1 0 1 1 0 1 1 1 0 1 0 0 1 1 0 1 1 0 0 0 1 0 1 0 0 1 0 1\n",
      " 1 1 1 1 0 1 0 1 1 1 0 1 0 1 1 1 0 1 0 1 1 0 1 1 0 0 1 1 1 0 1 0 1 0 0 0 0\n",
      " 0 1 0 1 0 1 1 0 0 0 0 0 1 0 1 1 0 1 1 0 0 1 1 1 0 0 1 1 0 1 1 1 1 1 0 0 0\n",
      " 0 1 1 1 0 0 1 1 1 0 1 1 0 0 1 1 0 0 1 0 0 1 1 1 1 1 0 1 1 1 1 1 1 0 1 1 0\n",
      " 0 0 0 1]\n"
     ]
    }
   ],
   "source": [
    "print(y_pred)"
   ]
  },
  {
   "cell_type": "code",
   "execution_count": 142,
   "id": "061a43ec",
   "metadata": {},
   "outputs": [
    {
     "name": "stdout",
     "output_type": "stream",
     "text": [
      "ACCURACY OF THE MODEL:  0.9433333333333334\n"
     ]
    }
   ],
   "source": [
    "print(\"ACCURACY OF THE MODEL: \", metrics.accuracy_score(y_test, y_pred))"
   ]
  },
  {
   "cell_type": "code",
   "execution_count": 143,
   "id": "7123de1f",
   "metadata": {},
   "outputs": [
    {
     "data": {
      "text/plain": [
       "array([1])"
      ]
     },
     "execution_count": 143,
     "metadata": {},
     "output_type": "execute_result"
    }
   ],
   "source": [
    "clf.predict([[3, 3, 2, 2]])"
   ]
  },
  {
   "cell_type": "code",
   "execution_count": 144,
   "id": "6d6b3737",
   "metadata": {},
   "outputs": [],
   "source": [
    "clf = RandomForestClassifier(n_estimators = 100)"
   ]
  },
  {
   "cell_type": "code",
   "execution_count": 145,
   "id": "b3f5dccd",
   "metadata": {},
   "outputs": [
    {
     "data": {
      "text/plain": [
       "RandomForestClassifier()"
      ]
     },
     "execution_count": 145,
     "metadata": {},
     "output_type": "execute_result"
    }
   ],
   "source": [
    "clf.fit(X_train, y_train)"
   ]
  },
  {
   "cell_type": "code",
   "execution_count": 148,
   "id": "fefc88cb",
   "metadata": {},
   "outputs": [
    {
     "name": "stdout",
     "output_type": "stream",
     "text": [
      "Confusion Matrix:\n",
      "[[133  11]\n",
      " [  6 150]]\n",
      "Classification Report:\n",
      "              precision    recall  f1-score   support\n",
      "\n",
      "           0       0.96      0.92      0.94       144\n",
      "           1       0.93      0.96      0.95       156\n",
      "\n",
      "    accuracy                           0.94       300\n",
      "   macro avg       0.94      0.94      0.94       300\n",
      "weighted avg       0.94      0.94      0.94       300\n",
      "\n",
      "Accuracy: 0.9433333333333334\n"
     ]
    }
   ],
   "source": [
    "from sklearn.metrics import classification_report, confusion_matrix, accuracy_score\n",
    "result = confusion_matrix(y_test, y_pred)\n",
    "print(\"Confusion Matrix:\")\n",
    "print(result)\n",
    "result1 = classification_report(y_test, y_pred)\n",
    "print(\"Classification Report:\",)\n",
    "print (result1)\n",
    "result2 = accuracy_score(y_test,y_pred)\n",
    "print(\"Accuracy:\",result2)"
   ]
  },
  {
   "cell_type": "code",
   "execution_count": null,
   "id": "808c95e4",
   "metadata": {},
   "outputs": [],
   "source": []
  }
 ],
 "metadata": {
  "kernelspec": {
   "display_name": "Python 3 (ipykernel)",
   "language": "python",
   "name": "python3"
  },
  "language_info": {
   "codemirror_mode": {
    "name": "ipython",
    "version": 3
   },
   "file_extension": ".py",
   "mimetype": "text/x-python",
   "name": "python",
   "nbconvert_exporter": "python",
   "pygments_lexer": "ipython3",
   "version": "3.9.7"
  }
 },
 "nbformat": 4,
 "nbformat_minor": 5
}
